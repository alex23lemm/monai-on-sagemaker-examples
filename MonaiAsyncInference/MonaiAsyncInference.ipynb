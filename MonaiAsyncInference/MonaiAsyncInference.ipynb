{
 "cells": [
  {
   "cell_type": "code",
   "execution_count": 20,
   "id": "8712c732",
   "metadata": {},
   "outputs": [
    {
     "name": "stdout",
     "output_type": "stream",
     "text": [
      "eu-west-1\n",
      "arn:aws:iam::617011600974:role/MonaiOnSagemakerInfrastru-MonaiOnSagemakerRoleA19D-1QZWJMQNJ5369\n",
      "monaionsagemakerinfrastr-monaionsagemakerbucket25-1strml4fipujp\n",
      "monai-async-inference-brain-tumor\n"
     ]
    }
   ],
   "source": [
    "import boto3\n",
    "import torch\n",
    "import sagemaker\n",
    "from sagemaker import get_execution_role\n",
    "from sagemaker.utils import name_from_base\n",
    "from sagemaker.pytorch import PyTorchModel\n",
    "import boto3\n",
    "import datetime\n",
    "import time\n",
    "from time import strftime,gmtime\n",
    "import json\n",
    "import os\n",
    "import urllib\n",
    "import sys\n",
    "import io\n",
    "\n",
    "boto_session = boto3.session.Session()\n",
    "sm_session = sagemaker.session.Session()\n",
    "sm_client = boto_session.client(\"sagemaker\")\n",
    "sm_runtime = boto_session.client(\"sagemaker-runtime\")\n",
    "sns_client = boto3.client('sns')\n",
    "ssm_client = boto3.client(\"ssm\")\n",
    "\n",
    "s3_bucket = ssm_client.get_parameter(Name=\"MonaiOnSagemakerBucketParameter\")[\"Parameter\"][\"Value\"]\n",
    "region = boto_session.region_name\n",
    "bucket = s3_bucket\n",
    "prefix = 'monai-async-inference-brain-tumor'\n",
    "sm_role = ssm_client.get_parameter(Name=\"MonaiOnSagemakerRoleParameter\")[\"Parameter\"][\"Value\"]\n",
    "role = sm_role\n",
    "\n",
    "print(region)\n",
    "print(role)\n",
    "print(bucket)\n",
    "print(prefix)"
   ]
  },
  {
   "cell_type": "code",
   "execution_count": 21,
   "id": "62d55c3f",
   "metadata": {},
   "outputs": [
    {
     "name": "stdout",
     "output_type": "stream",
     "text": [
      "model.pth\n"
     ]
    }
   ],
   "source": [
    "# Prepare tar package to be consumed by Sagemaker Async Inference\n",
    "# as an alternative to training here we're not creating a custom docker image but instead\n",
    "# we're giving to sagenaker a base image managed by AWS for inference and telling to sagemaker to add \n",
    "# to the base image tghe libs included in the classic requirements.txt\n",
    "\n",
    "# Here we should \n",
    "# - Get the trained model from S3\n",
    "# - unpack the pht file into the model folder\n",
    "\n",
    "\n",
    "s3_trained_model_uri = \"s3://monaionsagemakerinfrastr-monaionsagemakerbucket25-1strml4fipujp/monai-on-sagemaker-training-container-2022-06-11-09-23-37-712/output/model.tar.gz\"\n",
    "from sagemaker.s3 import S3Downloader\n",
    "S3Downloader.download(s3_trained_model_uri, \"./model\")\n",
    "\n",
    "!tar --directory ./model -xvf ./model/model.tar.gz model.pth "
   ]
  },
  {
   "cell_type": "code",
   "execution_count": 23,
   "id": "6926ccbb",
   "metadata": {},
   "outputs": [
    {
     "name": "stdout",
     "output_type": "stream",
     "text": [
      "mkdir: cannot create directory ‘model_and_code’: File exists\n",
      "mkdir: cannot create directory ‘model_and_code/code’: File exists\n",
      "cp: omitting directory ‘./source/__pycache__’\n",
      "./\n",
      "./model.pth\n",
      "./code/\n",
      "./code/inference.py\n",
      "./code/requirements.txt\n",
      "./code/__init__.py\n",
      "s3://monaionsagemakerinfrastr-monaionsagemakerbucket25-1strml4fipujp/monai-async-inference-brain-tumor/model/model.tar.gz\n",
      "s3://monaionsagemakerinfrastr-monaionsagemakerbucket25-1strml4fipujp/monai-async-inference-brain-tumor/datasets/BRATS_001.nii.gz\n"
     ]
    }
   ],
   "source": [
    "!mkdir model_and_code\n",
    "!cp ./model/model.pth model_and_code/\n",
    "!mkdir model_and_code/code\n",
    "!cp ./source/* model_and_code/code\n",
    "!tar cvzf model.tar.gz -C model_and_code/ . \n",
    "\n",
    "from sagemaker.s3 import S3Uploader\n",
    "\n",
    "# upload packaged model, inference code and requiremts file for lobs to S3\n",
    "file_key = 'model.tar.gz'\n",
    "model_artifact = S3Uploader.upload(file_key,'s3://{}/{}/model'.format(bucket, prefix))\n",
    "print(model_artifact)\n",
    "\n",
    "\n",
    "#Upload sample dataset to S3\n",
    "file_key = 'datasets/BRATS_001.nii.gz'\n",
    "data_artifact = S3Uploader.upload(file_key,'s3://{}/{}/datasets'.format(bucket, prefix))\n",
    "print(data_artifact)\n",
    "\n",
    "!rm model.tar.gz\n"
   ]
  },
  {
   "cell_type": "code",
   "execution_count": 24,
   "id": "17e2c63e",
   "metadata": {},
   "outputs": [
    {
     "name": "stdout",
     "output_type": "stream",
     "text": [
      "763104351884.dkr.ecr.eu-west-1.amazonaws.com/pytorch-inference:1.11.0-gpu-py38\n"
     ]
    }
   ],
   "source": [
    "from sagemaker.image_uris import retrieve\n",
    "\n",
    "deploy_instance_type = 'ml.g4dn.xlarge'\n",
    "pytorch_inference_image_uri = retrieve('pytorch',\n",
    "                                       region,\n",
    "                                       version='1.11.0',\n",
    "                                       py_version='py38',\n",
    "                                       instance_type = deploy_instance_type,\n",
    "                                       accelerator_type=None,\n",
    "                                       image_scope='inference')\n",
    "\n",
    "print(pytorch_inference_image_uri)"
   ]
  },
  {
   "cell_type": "code",
   "execution_count": 25,
   "id": "43df6a50",
   "metadata": {},
   "outputs": [
    {
     "name": "stdout",
     "output_type": "stream",
     "text": [
      "763104351884.dkr.ecr.eu-west-1.amazonaws.com/pytorch-inference:1.11.0-gpu-py38\n",
      "sagemaker-monai-brain-tumor-1654950683\n"
     ]
    }
   ],
   "source": [
    "container = pytorch_inference_image_uri\n",
    "model_name = 'sagemaker-monai-brain-tumor-{0}'.format(str(int(time.time())))\n",
    "print(container)\n",
    "print(model_name)"
   ]
  },
  {
   "cell_type": "code",
   "execution_count": 26,
   "id": "87870620",
   "metadata": {},
   "outputs": [],
   "source": [
    "create_model_response = sm_client.create_model(\n",
    "    ModelName = model_name,\n",
    "    ExecutionRoleArn = role,\n",
    "    PrimaryContainer = {\n",
    "        'Image': container,\n",
    "        'ModelDataUrl': model_artifact,\n",
    "        'Environment': {\n",
    "            'TS_MAX_REQUEST_SIZE': '200000000', #default max request size is 6 Mb for torchserve, need to update it to support the 70 mb input payload\n",
    "            'TS_MAX_RESPONSE_SIZE': '200000000',\n",
    "            'TS_DEFAULT_RESPONSE_TIMEOUT': '1000'\n",
    "        }\n",
    "    },    \n",
    ")"
   ]
  },
  {
   "cell_type": "code",
   "execution_count": 27,
   "id": "aa695296",
   "metadata": {},
   "outputs": [
    {
     "name": "stdout",
     "output_type": "stream",
     "text": [
      "sagemaker-monai-brain-tumor-1654950683\n",
      "Created EndpointConfig: arn:aws:sagemaker:eu-west-1:617011600974:endpoint-config/monaiendpointconfig-2022-06-11-12-31-29\n"
     ]
    }
   ],
   "source": [
    "print(model_name)\n",
    "endpoint_config_name = f\"monaiEndpointConfig-{strftime('%Y-%m-%d-%H-%M-%S', gmtime())}\"\n",
    "create_endpoint_config_response = sm_client.create_endpoint_config(\n",
    "    EndpointConfigName=endpoint_config_name,\n",
    "    ProductionVariants=[\n",
    "        {\n",
    "            \"VariantName\": \"variant1\",\n",
    "            \"ModelName\": model_name,\n",
    "            \"InstanceType\": \"ml.g4dn.xlarge\",\n",
    "            \"InitialInstanceCount\": 1\n",
    "        }\n",
    "    ]\n",
    ")\n",
    "print(f\"Created EndpointConfig: {create_endpoint_config_response['EndpointConfigArn']}\")"
   ]
  },
  {
   "cell_type": "code",
   "execution_count": 28,
   "id": "5a6ff5e4",
   "metadata": {},
   "outputs": [],
   "source": [
    "# Async Inference with Sagemaker\n",
    "\n",
    "bucket_prefix = \"monai-async-inference\"\n",
    "resource_name = \"Monai-AsyncInferenceDemo-SNS\"\n"
   ]
  },
  {
   "cell_type": "code",
   "execution_count": 29,
   "id": "02c5aba4",
   "metadata": {},
   "outputs": [
    {
     "name": "stdout",
     "output_type": "stream",
     "text": [
      "arn:aws:sns:eu-west-1:617011600974:Monai-Async-Demo-ErrorTopic\n"
     ]
    }
   ],
   "source": [
    "response = sns_client.create_topic(Name=\"Monai-Async-Demo-ErrorTopic\")\n",
    "error_topic= response['TopicArn']\n",
    "print(error_topic)"
   ]
  },
  {
   "cell_type": "code",
   "execution_count": 30,
   "id": "d9da0af6",
   "metadata": {},
   "outputs": [
    {
     "name": "stdout",
     "output_type": "stream",
     "text": [
      "arn:aws:sns:eu-west-1:617011600974:Monai-Async-Demo-SuccessTopic\n"
     ]
    }
   ],
   "source": [
    "response = sns_client.create_topic(Name=\"Monai-Async-Demo-SuccessTopic\")\n",
    "success_topic = response['TopicArn']\n",
    "print(success_topic)\n"
   ]
  },
  {
   "cell_type": "code",
   "execution_count": 31,
   "id": "02453a90",
   "metadata": {},
   "outputs": [
    {
     "name": "stdout",
     "output_type": "stream",
     "text": [
      "[{'TopicArn': 'arn:aws:sns:eu-west-1:617011600974:AmazonRekognitionECGAlert'}, {'TopicArn': 'arn:aws:sns:eu-west-1:617011600974:BCDataBrewAtena'}, {'TopicArn': 'arn:aws:sns:eu-west-1:617011600974:Monai-Async-Demo-ErrorTopic'}, {'TopicArn': 'arn:aws:sns:eu-west-1:617011600974:Monai-Async-Demo-SuccessTopic'}]\n"
     ]
    }
   ],
   "source": [
    "response = sns_client.list_topics()\n",
    "topics = response[\"Topics\"]\n",
    "print(topics)"
   ]
  },
  {
   "cell_type": "code",
   "execution_count": 221,
   "id": "db94358f",
   "metadata": {},
   "outputs": [],
   "source": [
    "#Note: Replace with your email id\n",
    "\n",
    "# email_id = 'your-email@domain-name.com'\n",
    "# email_sub_1 = sns_client.subscribe(\n",
    "#     TopicArn=success_topic,\n",
    "#     Protocol='email',\n",
    "#     Endpoint=email_id)\n",
    "\n",
    "# email_sub_2 = sns_client.subscribe(\n",
    "#     TopicArn=error_topic,\n",
    "#     Protocol='email',\n",
    "#     Endpoint=email_id)\n",
    "\n",
    "#Note: You will need to confirm by clicking on the email you recieve to complete the subscription"
   ]
  },
  {
   "cell_type": "code",
   "execution_count": 32,
   "id": "288e3463",
   "metadata": {},
   "outputs": [
    {
     "name": "stdout",
     "output_type": "stream",
     "text": [
      "sagemaker-monai-brain-tumor-1654950683\n",
      "Created EndpointConfig: arn:aws:sagemaker:eu-west-1:617011600974:endpoint-config/monai-asyncendpointconfig-2022-06-11-12-31-42\n"
     ]
    }
   ],
   "source": [
    "print(model_name)\n",
    "endpoint_config_name = f\"Monai-AsyncEndpointConfig-{strftime('%Y-%m-%d-%H-%M-%S', gmtime())}\"\n",
    "create_endpoint_config_response = sm_client.create_endpoint_config(\n",
    "    EndpointConfigName=endpoint_config_name,\n",
    "    ProductionVariants=[\n",
    "        {\n",
    "            \"VariantName\": \"variant1\",\n",
    "            \"ModelName\": model_name,\n",
    "            \"InstanceType\": \"ml.g4dn.xlarge\",\n",
    "            \"InitialInstanceCount\": 1\n",
    "        }\n",
    "    ],\n",
    "    AsyncInferenceConfig={\n",
    "        \"OutputConfig\": {\n",
    "            \"S3OutputPath\": f\"s3://{bucket}/{bucket_prefix}/output\",\n",
    "            #  Optionally specify Amazon SNS topics\n",
    "            \"NotificationConfig\": {\n",
    "              \"SuccessTopic\": success_topic,\n",
    "              \"ErrorTopic\": error_topic,\n",
    "            }\n",
    "        },\n",
    "        \"ClientConfig\": {\n",
    "            \"MaxConcurrentInvocationsPerInstance\": 2\n",
    "        }\n",
    "    }\n",
    ")\n",
    "print(f\"Created EndpointConfig: {create_endpoint_config_response['EndpointConfigArn']}\")"
   ]
  },
  {
   "cell_type": "code",
   "execution_count": 33,
   "id": "0a0268bf",
   "metadata": {},
   "outputs": [
    {
     "name": "stdout",
     "output_type": "stream",
     "text": [
      "Creating Endpoint: arn:aws:sagemaker:eu-west-1:617011600974:endpoint/monai-async-sm-2022-06-11-12-31-45\n"
     ]
    }
   ],
   "source": [
    "endpoint_name = f\"monai-async-sm-{strftime('%Y-%m-%d-%H-%M-%S', gmtime())}\"\n",
    "create_endpoint_response = sm_client.create_endpoint(EndpointName=endpoint_name, EndpointConfigName=endpoint_config_name)\n",
    "print(f\"Creating Endpoint: {create_endpoint_response['EndpointArn']}\")"
   ]
  },
  {
   "cell_type": "code",
   "execution_count": 34,
   "id": "c31ae9bb",
   "metadata": {},
   "outputs": [
    {
     "name": "stdout",
     "output_type": "stream",
     "text": [
      "Waiting for endpoint to create...\n",
      "Endpoint Status: InService\n"
     ]
    }
   ],
   "source": [
    "waiter = boto3.client('sagemaker').get_waiter('endpoint_in_service')\n",
    "print(\"Waiting for endpoint to create...\")\n",
    "waiter.wait(EndpointName=endpoint_name)\n",
    "resp = sm_client.describe_endpoint(EndpointName=endpoint_name)\n",
    "print(f\"Endpoint Status: {resp['EndpointStatus']}\")"
   ]
  },
  {
   "cell_type": "code",
   "execution_count": 36,
   "id": "645c9356",
   "metadata": {},
   "outputs": [
    {
     "name": "stdout",
     "output_type": "stream",
     "text": [
      "OutputLocation: s3://monaionsagemakerinfrastr-monaionsagemakerbucket25-1strml4fipujp/monai-async-inference/output/6053522c-eaa0-41c6-9f82-4c28707bf0b6.out\n"
     ]
    }
   ],
   "source": [
    "s3_uri = data_artifact\n",
    "response = sm_runtime.invoke_endpoint_async(\n",
    "    EndpointName=endpoint_name, \n",
    "    InputLocation=s3_uri)\n",
    "sagemaker_async_output_location = response['OutputLocation']\n",
    "print(f\"OutputLocation: {sagemaker_async_output_location}\")\n",
    "\n"
   ]
  },
  {
   "cell_type": "code",
   "execution_count": 46,
   "id": "02fd2abd",
   "metadata": {},
   "outputs": [
    {
     "name": "stdout",
     "output_type": "stream",
     "text": [
      "monaionsagemakerinfrastr-monaionsagemakerbucket25-1strml4fipujp\n",
      "monai-async-inference/output/6053522c-eaa0-41c6-9f82-4c28707bf0b6.out\n",
      "Prediction data shape :  (1, 3, 240, 240, 155)\n"
     ]
    },
    {
     "data": {
      "image/png": "[encoded data removed]",
      "text/plain": [
       "<PIL.Image.Image image mode=L size=240x240>"
      ]
     },
     "metadata": {},
     "output_type": "display_data"
    }
   ],
   "source": [
    "\n",
    "import botocore\n",
    "import numpy as np\n",
    "from PIL import Image\n",
    "\n",
    "s3_output_uri = sagemaker_async_output_location\n",
    "\n",
    "output_url = urllib.parse.urlparse(s3_output_uri)\n",
    "bucket = output_url.netloc\n",
    "key = output_url.path[1:]\n",
    "\n",
    "print(bucket)\n",
    "print(key)\n",
    "s3 = boto3.resource('s3')\n",
    "\n",
    "try:\n",
    "    s3.Bucket(bucket).download_file(key, 'prediction.numpy')\n",
    "except botocore.exceptions.ClientError as e:\n",
    "    if e.response['Error']['Code'] == \"404\":\n",
    "         print(\"The object does not exist.\")\n",
    "    else:\n",
    "        raise\n",
    "prediction_data = np.load(\"prediction.numpy\")\n",
    "print(\"Prediction data shape : \", prediction_data.shape)\n",
    "#test_img = (prediction_data[0,0,:,:,0]).astype(np.uint8)\n",
    "\n",
    "prediction_img = np.interp(\n",
    "    prediction_data[0,0,:,:,0],\n",
    "    (\n",
    "        prediction_data[0,0,:,:,0].min(), \n",
    "        prediction_data[0,0,:,:,0].max() \n",
    "    ),\n",
    "    (0,255)\n",
    ").astype(np.uint8)\n",
    "\n",
    "img = Image.fromarray(prediction_img)\n",
    "# img.save()\n",
    "img.show()\n",
    "\n",
    "!rm prediction.numpy\n",
    "\n"
   ]
  },
  {
   "cell_type": "code",
   "execution_count": 38,
   "id": "17877947",
   "metadata": {},
   "outputs": [
    {
     "name": "stdout",
     "output_type": "stream",
     "text": [
      "\\Async invocations for Pytorch serving default: \n",
      "\n"
     ]
    }
   ],
   "source": [
    "# Trigger 10 asynchronous requests on a single instance\n",
    "inferences = []\n",
    "for i in range(1,10):\n",
    "    start = time.time()\n",
    "    response = sm_runtime.invoke_endpoint_async(\n",
    "    EndpointName=endpoint_name, \n",
    "    InputLocation=s3_uri)\n",
    "    output_location = response[\"OutputLocation\"]\n",
    "    inferences += [(s3_uri, output_location)]\n",
    "    time.sleep(0.5)\n",
    "print(\"\\Async invocations for Pytorch serving default: \\n\")"
   ]
  },
  {
   "cell_type": "code",
   "execution_count": 39,
   "id": "bd6c5a43",
   "metadata": {},
   "outputs": [],
   "source": [
    "# Enable Autoscaling\n",
    "client = boto3.client('application-autoscaling') # Common class representing Application Auto Scaling for SageMaker amongst other services\n",
    "\n",
    "resource_id='endpoint/' + endpoint_name + '/variant/' + 'variant1' # This is the format in which application autoscaling references the endpoint\n",
    "\n",
    "response = client.register_scalable_target(\n",
    "    ServiceNamespace='sagemaker', \n",
    "    ResourceId=resource_id,\n",
    "    ScalableDimension='sagemaker:variant:DesiredInstanceCount',\n",
    "    MinCapacity=0,  \n",
    "    MaxCapacity=5\n",
    ")\n",
    "\n",
    "response = client.put_scaling_policy(\n",
    "    PolicyName='Invocations-ScalingPolicy',\n",
    "    ServiceNamespace='sagemaker', # The namespace of the AWS service that provides the resource. \n",
    "    ResourceId=resource_id, # Endpoint name \n",
    "    ScalableDimension='sagemaker:variant:DesiredInstanceCount', # SageMaker supports only Instance Count\n",
    "    PolicyType='TargetTrackingScaling', # 'StepScaling'|'TargetTrackingScaling'\n",
    "    TargetTrackingScalingPolicyConfiguration={\n",
    "        'TargetValue': 5.0, # The target value for the metric. \n",
    "        'CustomizedMetricSpecification': {\n",
    "            'MetricName': 'ApproximateBacklogSizePerInstance',\n",
    "            'Namespace': 'AWS/SageMaker',\n",
    "            'Dimensions': [\n",
    "                {'Name': 'EndpointName', 'Value': endpoint_name }\n",
    "            ],\n",
    "            'Statistic': 'Average',\n",
    "        },\n",
    "        'ScaleInCooldown': 120, # The cooldown period helps you prevent your Auto Scaling group from launching or terminating \n",
    "                                # additional instances before the effects of previous activities are visible. \n",
    "                                # You can configure the length of time based on your instance startup time or other application needs.\n",
    "                                # ScaleInCooldown - The amount of time, in seconds, after a scale in activity completes before another scale in activity can start. \n",
    "        'ScaleOutCooldown': 120 # ScaleOutCooldown - The amount of time, in seconds, after a scale out activity completes before another scale out activity can start.\n",
    "        \n",
    "        # 'DisableScaleIn': True|False - ndicates whether scale in by the target tracking policy is disabled. \n",
    "                            # If the value is true , scale in is disabled and the target tracking policy won't remove capacity from the scalable resource.\n",
    "    }\n",
    ")"
   ]
  },
  {
   "cell_type": "code",
   "execution_count": 40,
   "id": "a8449b21",
   "metadata": {},
   "outputs": [
    {
     "name": "stdout",
     "output_type": "stream",
     "text": [
      "{'PolicyARN': 'arn:aws:autoscaling:eu-west-1:617011600974:scalingPolicy:cd64bf86-3cce-4a33-9d23-5853c6d22a1e:resource/sagemaker/endpoint/monai-async-sm-2022-06-11-12-31-45/variant/variant1:policyName/Invocations-ScalingPolicy', 'Alarms': [{'AlarmName': 'TargetTracking-endpoint/monai-async-sm-2022-06-11-12-31-45/variant/variant1-AlarmHigh-ffe724c1-2e8e-4ae0-a957-a49c8c309096', 'AlarmARN': 'arn:aws:cloudwatch:eu-west-1:617011600974:alarm:TargetTracking-endpoint/monai-async-sm-2022-06-11-12-31-45/variant/variant1-AlarmHigh-ffe724c1-2e8e-4ae0-a957-a49c8c309096'}, {'AlarmName': 'TargetTracking-endpoint/monai-async-sm-2022-06-11-12-31-45/variant/variant1-AlarmLow-3db41702-c10b-4514-8574-936bcd49093f', 'AlarmARN': 'arn:aws:cloudwatch:eu-west-1:617011600974:alarm:TargetTracking-endpoint/monai-async-sm-2022-06-11-12-31-45/variant/variant1-AlarmLow-3db41702-c10b-4514-8574-936bcd49093f'}], 'ResponseMetadata': {'RequestId': 'e4d8db21-fb05-4594-81e2-d5f8147a81ab', 'HTTPStatusCode': 200, 'HTTPHeaders': {'x-amzn-requestid': 'e4d8db21-fb05-4594-81e2-d5f8147a81ab', 'content-type': 'application/x-amz-json-1.1', 'content-length': '881', 'date': 'Sat, 11 Jun 2022 12:41:46 GMT'}, 'RetryAttempts': 0}}\n"
     ]
    }
   ],
   "source": [
    "print(response)"
   ]
  },
  {
   "cell_type": "code",
   "execution_count": 41,
   "id": "28ffc4a5",
   "metadata": {},
   "outputs": [
    {
     "name": "stdout",
     "output_type": "stream",
     "text": [
      "monai-async-sm-2022-06-11-12-31-45\n",
      "\\Async invocations for Pytorch serving with auotscaling \n",
      "\n"
     ]
    }
   ],
   "source": [
    "print(endpoint_name)\n",
    "for i in range(1,1000):\n",
    "    response = sm_runtime.invoke_endpoint_async(\n",
    "    EndpointName=endpoint_name, \n",
    "    InputLocation=s3_uri)\n",
    "print(\"\\Async invocations for Pytorch serving with auotscaling \\n\")"
   ]
  },
  {
   "cell_type": "code",
   "execution_count": 42,
   "id": "5bf179cb",
   "metadata": {},
   "outputs": [],
   "source": [
    "import pandas as pd\n",
    "cw = boto3.Session().client(\"cloudwatch\")"
   ]
  },
  {
   "cell_type": "code",
   "execution_count": 43,
   "id": "cdbe2202",
   "metadata": {},
   "outputs": [],
   "source": [
    "import datetime\n",
    "from datetime import datetime,timedelta\n",
    "def get_sagemaker_metrics(endpoint_name,\n",
    "                          endpoint_config_name,\n",
    "                          variant_name,\n",
    "                          metric_name,\n",
    "                          statistic,\n",
    "                          start_time,\n",
    "                          end_time):\n",
    "    dimensions = [\n",
    "        {\n",
    "            \"Name\": \"EndpointName\",\n",
    "            \"Value\": endpoint_name\n",
    "        },\n",
    "        {\n",
    "            \"Name\": \"VariantName\",\n",
    "            \"Value\": variant_name\n",
    "        }\n",
    "    ]\n",
    "    if endpoint_config_name is not None:\n",
    "        dimensions.append({\n",
    "            \"Name\": \"EndpointConfigName\",\n",
    "            \"Value\": endpoint_config_name\n",
    "        })\n",
    "    metrics = cw.get_metric_statistics(\n",
    "        Namespace=\"AWS/SageMaker\",\n",
    "        MetricName=metric_name,\n",
    "        StartTime=start_time,\n",
    "        EndTime=end_time,\n",
    "        Period=60,\n",
    "        Statistics=[statistic],\n",
    "        Dimensions=dimensions\n",
    "    )\n",
    "    rename = endpoint_config_name if endpoint_config_name is not None else 'ALL'\n",
    "    return pd.DataFrame(metrics[\"Datapoints\"])\\\n",
    "            .sort_values(\"Timestamp\")\\\n",
    "            .set_index(\"Timestamp\")\\\n",
    "            .drop([\"Unit\"], axis=1)\\\n",
    "            .rename(columns={statistic: rename})\n",
    "\n",
    "def plot_endpoint_model_latency_metrics(endpoint_name, endpoint_config_name, variant_name, start_time=None):\n",
    "    start_time = start_time or datetime.now() - timedelta(minutes=60)\n",
    "    end_time = datetime.now()\n",
    "    metric_name = \"ModelLatency\"\n",
    "    statistic = \"Average\"\n",
    "    metrics_variants = get_sagemaker_metrics(\n",
    "        endpoint_name,\n",
    "        endpoint_config_name,\n",
    "        variant_name,\n",
    "        metric_name, \n",
    "        statistic,\n",
    "        start_time,\n",
    "        end_time)\n",
    "    metrics_variants.plot(title=f\"{metric_name}-{statistic}\")\n",
    "    return metrics_variants"
   ]
  },
  {
   "cell_type": "code",
   "execution_count": 44,
   "id": "6dd7058b",
   "metadata": {},
   "outputs": [
    {
     "data": {
      "image/png": "[encoded data removed]",
      "text/plain": [
       "<Figure size 432x288 with 1 Axes>"
      ]
     },
     "metadata": {
      "needs_background": "light"
     },
     "output_type": "display_data"
    }
   ],
   "source": [
    "model_latency_metrics = plot_endpoint_model_latency_metrics(endpoint_name, None, \"variant1\")"
   ]
  }
 ],
 "metadata": {
  "environment": {
   "name": "pytorch-gpu.1-9.m75",
   "type": "gcloud",
   "uri": "gcr.io/deeplearning-platform-release/pytorch-gpu.1-9:m75"
  },
  "instance_type": "ml.g4dn.2xlarge",
  "interpreter": {
   "hash": "9064e900e2a765fc99668de545d3e0521ebc66fcd740a788637e4252a4141f7a"
  },
  "kernelspec": {
   "display_name": "Python 3.7.10 ('venv': venv)",
   "language": "python",
   "name": "python3"
  },
  "language_info": {
   "codemirror_mode": {
    "name": "ipython",
    "version": 3
   },
   "file_extension": ".py",
   "mimetype": "text/x-python",
   "name": "python",
   "nbconvert_exporter": "python",
   "pygments_lexer": "ipython3",
   "version": "3.7.10"
  }
 },
 "nbformat": 4,
 "nbformat_minor": 5
}
